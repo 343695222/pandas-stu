{
 "cells": [
  {
   "cell_type": "code",
   "execution_count": 1,
   "metadata": {},
   "outputs": [],
   "source": [
    "import numpy as np\n",
    "import pandas as pd"
   ]
  },
  {
   "cell_type": "markdown",
   "metadata": {},
   "source": [
    "这一节主要是数据集的合并和连接，这个和sql的连表一样，支持左连接、右连接。\n",
    "1、merge，用于合并。\n",
    "2、支持on，设置关联数据，相当于sql的on，同时支持left_on,right_on。\n",
    "3、同时支持left_index，right_index，并且可以和left_on，right_on混用，join就是通过left_index、right_index执行合并的。\n",
    "4、支持how，inner内连接、outer外连接、left左连接、right右连接。\n",
    "5、支持重复名前缀suffixes"
   ]
  },
  {
   "cell_type": "code",
   "execution_count": 2,
   "metadata": {},
   "outputs": [
    {
     "name": "stdout",
     "output_type": "stream",
     "text": [
      "   name  rank\n",
      "0   Bob     1\n",
      "1  Jake     2\n",
      "2  Lisa     3\n",
      "3   Sue     4\n",
      "   name  rank\n",
      "0   Bob     3\n",
      "1  Jake     1\n",
      "2  Lisa     4\n",
      "3   Sue     2\n",
      "   name  rank_L  rank_R\n",
      "0   Bob       1       3\n",
      "1  Jake       2       1\n",
      "2  Lisa       3       4\n",
      "3   Sue       4       2\n"
     ]
    }
   ],
   "source": [
    "df1 = pd.DataFrame({'name': ['Bob', 'Jake', 'Lisa', 'Sue'],'rank': [1, 2, 3, 4]})\n",
    "df2 = pd.DataFrame({'name': ['Bob', 'Jake', 'Lisa', 'Sue'],'rank': [3, 1, 4, 2]})\n",
    "print(df1); print(df2); print(pd.merge(df1, df2, left_on=\"name\",right_on='name',suffixes=['_L','_R']))"
   ]
  },
  {
   "cell_type": "code",
   "execution_count": 12,
   "metadata": {},
   "outputs": [
    {
     "name": "stdout",
     "output_type": "stream",
     "text": [
      "      rank\n",
      "name      \n",
      "Bob      1\n",
      "Jake     2\n",
      "Lisa     3\n",
      "Sue      4\n",
      "      rank\n",
      "name      \n",
      "Bob      1\n",
      "Jake     2\n",
      "Lisa     3\n",
      "Sue      4\n",
      "Index(['Bob', 'Jake', 'Lisa', 'Sue'], dtype='object', name='name')\n",
      "      rank_L  rank_R\n",
      "name                \n",
      "Bob        1       3\n",
      "Jake       2       1\n",
      "Lisa       3       4\n",
      "Sue        4       2\n"
     ]
    }
   ],
   "source": [
    "df3 = pd.DataFrame({'name': ['Bob', 'Jake', 'Lisa', 'Sue'],'rank': [1, 2, 3, 4]})\n",
    "df4 = pd.DataFrame({'name': ['Bob', 'Jake', 'Lisa', 'Sue'],'rank': [3, 1, 4, 2]})\n",
    "df5 = df3.set_index('name')\n",
    "df6 = df4.set_index('name')\n",
    "print(df5); print(df5); \n",
    "pdf = pd.merge(df5, df6, left_index=True,right_index=True,suffixes=['_L','_R'])\n",
    "print(pdf.index)\n",
    "print(pdf)"
   ]
  },
  {
   "cell_type": "code",
   "execution_count": null,
   "metadata": {},
   "outputs": [],
   "source": []
  },
  {
   "cell_type": "code",
   "execution_count": null,
   "metadata": {},
   "outputs": [],
   "source": []
  }
 ],
 "metadata": {
  "kernelspec": {
   "display_name": "Python 3",
   "language": "python",
   "name": "python3"
  },
  "language_info": {
   "codemirror_mode": {
    "name": "ipython",
    "version": 3
   },
   "file_extension": ".py",
   "mimetype": "text/x-python",
   "name": "python",
   "nbconvert_exporter": "python",
   "pygments_lexer": "ipython3",
   "version": "3.6.6"
  }
 },
 "nbformat": 4,
 "nbformat_minor": 2
}
