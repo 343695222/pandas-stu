{
 "cells": [
  {
   "cell_type": "code",
   "execution_count": 175,
   "metadata": {},
   "outputs": [],
   "source": [
    "import numpy as np\n",
    "import pandas as pd"
   ]
  },
  {
   "cell_type": "markdown",
   "metadata": {},
   "source": [
    "有序的索引和无序的索引-前面有提过索引切片问题的时候提到索引排序，这里细说\n",
    "\n",
    "__如果 MultiIndex 不是有序的索引，那么大多数切片操作都会失败__"
   ]
  },
  {
   "cell_type": "code",
   "execution_count": 176,
   "metadata": {},
   "outputs": [
    {
     "data": {
      "text/plain": [
       "pandas.core.series.Series"
      ]
     },
     "execution_count": 176,
     "metadata": {},
     "output_type": "execute_result"
    }
   ],
   "source": [
    "index = pd.MultiIndex.from_product([['a','c','b'],[1,2],['x','y','z']],names=['char','int','xyz'])\n",
    "data = pd.Series(np.random.rand(18),index=index)\n",
    "type(data)"
   ]
  },
  {
   "cell_type": "code",
   "execution_count": 177,
   "metadata": {},
   "outputs": [
    {
     "data": {
      "text/plain": [
       "char  int  xyz\n",
       "a     1    x      0.393543\n",
       "           y      0.024658\n",
       "           z      0.925126\n",
       "      2    x      0.067376\n",
       "           y      0.820321\n",
       "           z      0.262419\n",
       "c     1    x      0.142827\n",
       "           y      0.785813\n",
       "           z      0.646108\n",
       "      2    x      0.262706\n",
       "           y      0.536357\n",
       "           z      0.721422\n",
       "b     1    x      0.077714\n",
       "           y      0.328592\n",
       "           z      0.707198\n",
       "      2    x      0.997268\n",
       "           y      0.822463\n",
       "           z      0.079609\n",
       "dtype: float64"
      ]
     },
     "execution_count": 177,
     "metadata": {},
     "output_type": "execute_result"
    }
   ],
   "source": [
    "data"
   ]
  },
  {
   "cell_type": "markdown",
   "metadata": {},
   "source": [
    "对索引排序"
   ]
  },
  {
   "cell_type": "markdown",
   "metadata": {},
   "source": [
    "``` data['a':'c'] # UnsortedIndexError ```"
   ]
  },
  {
   "cell_type": "code",
   "execution_count": 178,
   "metadata": {},
   "outputs": [
    {
     "data": {
      "text/plain": [
       "False"
      ]
     },
     "execution_count": 178,
     "metadata": {},
     "output_type": "execute_result"
    }
   ],
   "source": [
    "data.index.is_lexsorted()"
   ]
  },
  {
   "cell_type": "code",
   "execution_count": 179,
   "metadata": {},
   "outputs": [],
   "source": [
    "data2 = data.sort_index()"
   ]
  },
  {
   "cell_type": "code",
   "execution_count": 180,
   "metadata": {},
   "outputs": [
    {
     "data": {
      "text/plain": [
       "char  int  xyz\n",
       "a     1    x      0.393543\n",
       "           y      0.024658\n",
       "           z      0.925126\n",
       "      2    x      0.067376\n",
       "           y      0.820321\n",
       "           z      0.262419\n",
       "b     1    x      0.077714\n",
       "           y      0.328592\n",
       "           z      0.707198\n",
       "      2    x      0.997268\n",
       "           y      0.822463\n",
       "           z      0.079609\n",
       "c     1    x      0.142827\n",
       "           y      0.785813\n",
       "           z      0.646108\n",
       "      2    x      0.262706\n",
       "           y      0.536357\n",
       "           z      0.721422\n",
       "dtype: float64"
      ]
     },
     "execution_count": 180,
     "metadata": {},
     "output_type": "execute_result"
    }
   ],
   "source": [
    "data2 # 注意索引顺序"
   ]
  },
  {
   "cell_type": "code",
   "execution_count": 181,
   "metadata": {},
   "outputs": [
    {
     "data": {
      "text/plain": [
       "True"
      ]
     },
     "execution_count": 181,
     "metadata": {},
     "output_type": "execute_result"
    }
   ],
   "source": [
    "data2.index.is_lexsorted()"
   ]
  },
  {
   "cell_type": "code",
   "execution_count": 182,
   "metadata": {},
   "outputs": [
    {
     "data": {
      "text/plain": [
       "char  int  xyz\n",
       "a     1    x      0.393543\n",
       "           y      0.024658\n",
       "           z      0.925126\n",
       "      2    x      0.067376\n",
       "           y      0.820321\n",
       "           z      0.262419\n",
       "b     1    x      0.077714\n",
       "           y      0.328592\n",
       "           z      0.707198\n",
       "      2    x      0.997268\n",
       "           y      0.822463\n",
       "           z      0.079609\n",
       "dtype: float64"
      ]
     },
     "execution_count": 182,
     "metadata": {},
     "output_type": "execute_result"
    }
   ],
   "source": [
    "data2['a':'b']"
   ]
  },
  {
   "cell_type": "markdown",
   "metadata": {},
   "source": [
    "索引stack与unstack:行列转化\n",
    "\n",
    "1、unstack：可以通过 level 参数设置转换的索引层级 level=-1默认:最后一个\n",
    "\n",
    "2、stack：unstack的逆向操作，但是有点不同\n",
    "\n",
    "3、他们的操作都是放入最内维度"
   ]
  },
  {
   "cell_type": "code",
   "execution_count": 183,
   "metadata": {},
   "outputs": [
    {
     "data": {
      "text/html": [
       "<div>\n",
       "<style scoped>\n",
       "    .dataframe tbody tr th:only-of-type {\n",
       "        vertical-align: middle;\n",
       "    }\n",
       "\n",
       "    .dataframe tbody tr th {\n",
       "        vertical-align: top;\n",
       "    }\n",
       "\n",
       "    .dataframe thead th {\n",
       "        text-align: right;\n",
       "    }\n",
       "</style>\n",
       "<table border=\"1\" class=\"dataframe\">\n",
       "  <thead>\n",
       "    <tr style=\"text-align: right;\">\n",
       "      <th></th>\n",
       "      <th>char</th>\n",
       "      <th>a</th>\n",
       "      <th>b</th>\n",
       "      <th>c</th>\n",
       "    </tr>\n",
       "    <tr>\n",
       "      <th>int</th>\n",
       "      <th>xyz</th>\n",
       "      <th></th>\n",
       "      <th></th>\n",
       "      <th></th>\n",
       "    </tr>\n",
       "  </thead>\n",
       "  <tbody>\n",
       "    <tr>\n",
       "      <th rowspan=\"3\" valign=\"top\">1</th>\n",
       "      <th>x</th>\n",
       "      <td>0.393543</td>\n",
       "      <td>0.077714</td>\n",
       "      <td>0.142827</td>\n",
       "    </tr>\n",
       "    <tr>\n",
       "      <th>y</th>\n",
       "      <td>0.024658</td>\n",
       "      <td>0.328592</td>\n",
       "      <td>0.785813</td>\n",
       "    </tr>\n",
       "    <tr>\n",
       "      <th>z</th>\n",
       "      <td>0.925126</td>\n",
       "      <td>0.707198</td>\n",
       "      <td>0.646108</td>\n",
       "    </tr>\n",
       "    <tr>\n",
       "      <th rowspan=\"3\" valign=\"top\">2</th>\n",
       "      <th>x</th>\n",
       "      <td>0.067376</td>\n",
       "      <td>0.997268</td>\n",
       "      <td>0.262706</td>\n",
       "    </tr>\n",
       "    <tr>\n",
       "      <th>y</th>\n",
       "      <td>0.820321</td>\n",
       "      <td>0.822463</td>\n",
       "      <td>0.536357</td>\n",
       "    </tr>\n",
       "    <tr>\n",
       "      <th>z</th>\n",
       "      <td>0.262419</td>\n",
       "      <td>0.079609</td>\n",
       "      <td>0.721422</td>\n",
       "    </tr>\n",
       "  </tbody>\n",
       "</table>\n",
       "</div>"
      ],
      "text/plain": [
       "char            a         b         c\n",
       "int xyz                              \n",
       "1   x    0.393543  0.077714  0.142827\n",
       "    y    0.024658  0.328592  0.785813\n",
       "    z    0.925126  0.707198  0.646108\n",
       "2   x    0.067376  0.997268  0.262706\n",
       "    y    0.820321  0.822463  0.536357\n",
       "    z    0.262419  0.079609  0.721422"
      ]
     },
     "execution_count": 183,
     "metadata": {},
     "output_type": "execute_result"
    }
   ],
   "source": [
    "data2.unstack(level=0)   # 可以通过 level 参 数设置转换的索引层级 level=-1默认:最后一个，整数位索引的层级"
   ]
  },
  {
   "cell_type": "code",
   "execution_count": 184,
   "metadata": {},
   "outputs": [
    {
     "data": {
      "text/plain": [
       "MultiIndex(levels=[[1, 2], ['x', 'y', 'z']],\n",
       "           labels=[[0, 0, 0, 1, 1, 1], [0, 1, 2, 0, 1, 2]],\n",
       "           names=['int', 'xyz'])"
      ]
     },
     "execution_count": 184,
     "metadata": {},
     "output_type": "execute_result"
    }
   ],
   "source": [
    "data2.unstack(level=0).index # 可以看到索引变了"
   ]
  },
  {
   "cell_type": "code",
   "execution_count": 185,
   "metadata": {},
   "outputs": [
    {
     "data": {
      "text/plain": [
       "Index(['a', 'b', 'c'], dtype='object', name='char')"
      ]
     },
     "execution_count": 185,
     "metadata": {},
     "output_type": "execute_result"
    }
   ],
   "source": [
    "data2.unstack(level=0).columns # 可以看到，abc变为columns"
   ]
  },
  {
   "cell_type": "code",
   "execution_count": 186,
   "metadata": {},
   "outputs": [
    {
     "data": {
      "text/plain": [
       "pandas.core.frame.DataFrame"
      ]
     },
     "execution_count": 186,
     "metadata": {},
     "output_type": "execute_result"
    }
   ],
   "source": [
    "type(data2.unstack(level=0))  # 可以看到，这已经不是一个Series  ,而是一个DataFrame"
   ]
  },
  {
   "cell_type": "code",
   "execution_count": 187,
   "metadata": {},
   "outputs": [
    {
     "data": {
      "text/html": [
       "<div>\n",
       "<style scoped>\n",
       "    .dataframe tbody tr th:only-of-type {\n",
       "        vertical-align: middle;\n",
       "    }\n",
       "\n",
       "    .dataframe tbody tr th {\n",
       "        vertical-align: top;\n",
       "    }\n",
       "\n",
       "    .dataframe thead tr th {\n",
       "        text-align: left;\n",
       "    }\n",
       "\n",
       "    .dataframe thead tr:last-of-type th {\n",
       "        text-align: right;\n",
       "    }\n",
       "</style>\n",
       "<table border=\"1\" class=\"dataframe\">\n",
       "  <thead>\n",
       "    <tr>\n",
       "      <th>char</th>\n",
       "      <th colspan=\"2\" halign=\"left\">a</th>\n",
       "      <th colspan=\"2\" halign=\"left\">b</th>\n",
       "      <th colspan=\"2\" halign=\"left\">c</th>\n",
       "    </tr>\n",
       "    <tr>\n",
       "      <th>int</th>\n",
       "      <th>1</th>\n",
       "      <th>2</th>\n",
       "      <th>1</th>\n",
       "      <th>2</th>\n",
       "      <th>1</th>\n",
       "      <th>2</th>\n",
       "    </tr>\n",
       "    <tr>\n",
       "      <th>xyz</th>\n",
       "      <th></th>\n",
       "      <th></th>\n",
       "      <th></th>\n",
       "      <th></th>\n",
       "      <th></th>\n",
       "      <th></th>\n",
       "    </tr>\n",
       "  </thead>\n",
       "  <tbody>\n",
       "    <tr>\n",
       "      <th>x</th>\n",
       "      <td>0.393543</td>\n",
       "      <td>0.067376</td>\n",
       "      <td>0.077714</td>\n",
       "      <td>0.997268</td>\n",
       "      <td>0.142827</td>\n",
       "      <td>0.262706</td>\n",
       "    </tr>\n",
       "    <tr>\n",
       "      <th>y</th>\n",
       "      <td>0.024658</td>\n",
       "      <td>0.820321</td>\n",
       "      <td>0.328592</td>\n",
       "      <td>0.822463</td>\n",
       "      <td>0.785813</td>\n",
       "      <td>0.536357</td>\n",
       "    </tr>\n",
       "    <tr>\n",
       "      <th>z</th>\n",
       "      <td>0.925126</td>\n",
       "      <td>0.262419</td>\n",
       "      <td>0.707198</td>\n",
       "      <td>0.079609</td>\n",
       "      <td>0.646108</td>\n",
       "      <td>0.721422</td>\n",
       "    </tr>\n",
       "  </tbody>\n",
       "</table>\n",
       "</div>"
      ],
      "text/plain": [
       "char         a                   b                   c          \n",
       "int          1         2         1         2         1         2\n",
       "xyz                                                             \n",
       "x     0.393543  0.067376  0.077714  0.997268  0.142827  0.262706\n",
       "y     0.024658  0.820321  0.328592  0.822463  0.785813  0.536357\n",
       "z     0.925126  0.262419  0.707198  0.079609  0.646108  0.721422"
      ]
     },
     "execution_count": 187,
     "metadata": {},
     "output_type": "execute_result"
    }
   ],
   "source": [
    "data2.unstack(level=0).unstack(level=0)"
   ]
  },
  {
   "cell_type": "code",
   "execution_count": 188,
   "metadata": {},
   "outputs": [
    {
     "data": {
      "text/plain": [
       "char  int  xyz\n",
       "a     1    x      0.393543\n",
       "           y      0.024658\n",
       "           z      0.925126\n",
       "      2    x      0.067376\n",
       "           y      0.820321\n",
       "           z      0.262419\n",
       "b     1    x      0.077714\n",
       "           y      0.328592\n",
       "           z      0.707198\n",
       "      2    x      0.997268\n",
       "           y      0.822463\n",
       "           z      0.079609\n",
       "c     1    x      0.142827\n",
       "           y      0.785813\n",
       "           z      0.646108\n",
       "      2    x      0.262706\n",
       "           y      0.536357\n",
       "           z      0.721422\n",
       "dtype: float64"
      ]
     },
     "execution_count": 188,
     "metadata": {},
     "output_type": "execute_result"
    }
   ],
   "source": [
    "data2.unstack(level=0).unstack(level=0).unstack(level=0)"
   ]
  },
  {
   "cell_type": "code",
   "execution_count": 189,
   "metadata": {},
   "outputs": [
    {
     "data": {
      "text/plain": [
       "MultiIndex(levels=[['a', 'b', 'c'], [1, 2], ['x', 'y', 'z']],\n",
       "           labels=[[0, 0, 0, 0, 0, 0, 1, 1, 1, 1, 1, 1, 2, 2, 2, 2, 2, 2], [0, 0, 0, 1, 1, 1, 0, 0, 0, 1, 1, 1, 0, 0, 0, 1, 1, 1], [0, 1, 2, 0, 1, 2, 0, 1, 2, 0, 1, 2, 0, 1, 2, 0, 1, 2]],\n",
       "           names=['char', 'int', 'xyz'])"
      ]
     },
     "execution_count": 189,
     "metadata": {},
     "output_type": "execute_result"
    }
   ],
   "source": [
    "data2.unstack(level=0).unstack(level=0).unstack(level=0).index"
   ]
  },
  {
   "cell_type": "markdown",
   "metadata": {},
   "source": [
    "从上面的结果可以看出，不会把所有的index都转化为columns，可能是因为没有意义吧"
   ]
  },
  {
   "cell_type": "code",
   "execution_count": 190,
   "metadata": {},
   "outputs": [],
   "source": [
    "data3 = data2.unstack().unstack()"
   ]
  },
  {
   "cell_type": "code",
   "execution_count": 191,
   "metadata": {},
   "outputs": [
    {
     "data": {
      "text/html": [
       "<div>\n",
       "<style scoped>\n",
       "    .dataframe tbody tr th:only-of-type {\n",
       "        vertical-align: middle;\n",
       "    }\n",
       "\n",
       "    .dataframe tbody tr th {\n",
       "        vertical-align: top;\n",
       "    }\n",
       "\n",
       "    .dataframe thead tr th {\n",
       "        text-align: left;\n",
       "    }\n",
       "\n",
       "    .dataframe thead tr:last-of-type th {\n",
       "        text-align: right;\n",
       "    }\n",
       "</style>\n",
       "<table border=\"1\" class=\"dataframe\">\n",
       "  <thead>\n",
       "    <tr>\n",
       "      <th>xyz</th>\n",
       "      <th colspan=\"2\" halign=\"left\">x</th>\n",
       "      <th colspan=\"2\" halign=\"left\">y</th>\n",
       "      <th colspan=\"2\" halign=\"left\">z</th>\n",
       "    </tr>\n",
       "    <tr>\n",
       "      <th>int</th>\n",
       "      <th>1</th>\n",
       "      <th>2</th>\n",
       "      <th>1</th>\n",
       "      <th>2</th>\n",
       "      <th>1</th>\n",
       "      <th>2</th>\n",
       "    </tr>\n",
       "    <tr>\n",
       "      <th>char</th>\n",
       "      <th></th>\n",
       "      <th></th>\n",
       "      <th></th>\n",
       "      <th></th>\n",
       "      <th></th>\n",
       "      <th></th>\n",
       "    </tr>\n",
       "  </thead>\n",
       "  <tbody>\n",
       "    <tr>\n",
       "      <th>a</th>\n",
       "      <td>0.393543</td>\n",
       "      <td>0.067376</td>\n",
       "      <td>0.024658</td>\n",
       "      <td>0.820321</td>\n",
       "      <td>0.925126</td>\n",
       "      <td>0.262419</td>\n",
       "    </tr>\n",
       "    <tr>\n",
       "      <th>b</th>\n",
       "      <td>0.077714</td>\n",
       "      <td>0.997268</td>\n",
       "      <td>0.328592</td>\n",
       "      <td>0.822463</td>\n",
       "      <td>0.707198</td>\n",
       "      <td>0.079609</td>\n",
       "    </tr>\n",
       "    <tr>\n",
       "      <th>c</th>\n",
       "      <td>0.142827</td>\n",
       "      <td>0.262706</td>\n",
       "      <td>0.785813</td>\n",
       "      <td>0.536357</td>\n",
       "      <td>0.646108</td>\n",
       "      <td>0.721422</td>\n",
       "    </tr>\n",
       "  </tbody>\n",
       "</table>\n",
       "</div>"
      ],
      "text/plain": [
       "xyz          x                   y                   z          \n",
       "int          1         2         1         2         1         2\n",
       "char                                                            \n",
       "a     0.393543  0.067376  0.024658  0.820321  0.925126  0.262419\n",
       "b     0.077714  0.997268  0.328592  0.822463  0.707198  0.079609\n",
       "c     0.142827  0.262706  0.785813  0.536357  0.646108  0.721422"
      ]
     },
     "execution_count": 191,
     "metadata": {},
     "output_type": "execute_result"
    }
   ],
   "source": [
    "data3"
   ]
  },
  {
   "cell_type": "code",
   "execution_count": 192,
   "metadata": {},
   "outputs": [
    {
     "data": {
      "text/html": [
       "<div>\n",
       "<style scoped>\n",
       "    .dataframe tbody tr th:only-of-type {\n",
       "        vertical-align: middle;\n",
       "    }\n",
       "\n",
       "    .dataframe tbody tr th {\n",
       "        vertical-align: top;\n",
       "    }\n",
       "\n",
       "    .dataframe thead th {\n",
       "        text-align: right;\n",
       "    }\n",
       "</style>\n",
       "<table border=\"1\" class=\"dataframe\">\n",
       "  <thead>\n",
       "    <tr style=\"text-align: right;\">\n",
       "      <th></th>\n",
       "      <th>int</th>\n",
       "      <th>1</th>\n",
       "      <th>2</th>\n",
       "    </tr>\n",
       "    <tr>\n",
       "      <th>char</th>\n",
       "      <th>xyz</th>\n",
       "      <th></th>\n",
       "      <th></th>\n",
       "    </tr>\n",
       "  </thead>\n",
       "  <tbody>\n",
       "    <tr>\n",
       "      <th rowspan=\"3\" valign=\"top\">a</th>\n",
       "      <th>x</th>\n",
       "      <td>0.393543</td>\n",
       "      <td>0.067376</td>\n",
       "    </tr>\n",
       "    <tr>\n",
       "      <th>y</th>\n",
       "      <td>0.024658</td>\n",
       "      <td>0.820321</td>\n",
       "    </tr>\n",
       "    <tr>\n",
       "      <th>z</th>\n",
       "      <td>0.925126</td>\n",
       "      <td>0.262419</td>\n",
       "    </tr>\n",
       "    <tr>\n",
       "      <th rowspan=\"3\" valign=\"top\">b</th>\n",
       "      <th>x</th>\n",
       "      <td>0.077714</td>\n",
       "      <td>0.997268</td>\n",
       "    </tr>\n",
       "    <tr>\n",
       "      <th>y</th>\n",
       "      <td>0.328592</td>\n",
       "      <td>0.822463</td>\n",
       "    </tr>\n",
       "    <tr>\n",
       "      <th>z</th>\n",
       "      <td>0.707198</td>\n",
       "      <td>0.079609</td>\n",
       "    </tr>\n",
       "    <tr>\n",
       "      <th rowspan=\"3\" valign=\"top\">c</th>\n",
       "      <th>x</th>\n",
       "      <td>0.142827</td>\n",
       "      <td>0.262706</td>\n",
       "    </tr>\n",
       "    <tr>\n",
       "      <th>y</th>\n",
       "      <td>0.785813</td>\n",
       "      <td>0.536357</td>\n",
       "    </tr>\n",
       "    <tr>\n",
       "      <th>z</th>\n",
       "      <td>0.646108</td>\n",
       "      <td>0.721422</td>\n",
       "    </tr>\n",
       "  </tbody>\n",
       "</table>\n",
       "</div>"
      ],
      "text/plain": [
       "int              1         2\n",
       "char xyz                    \n",
       "a    x    0.393543  0.067376\n",
       "     y    0.024658  0.820321\n",
       "     z    0.925126  0.262419\n",
       "b    x    0.077714  0.997268\n",
       "     y    0.328592  0.822463\n",
       "     z    0.707198  0.079609\n",
       "c    x    0.142827  0.262706\n",
       "     y    0.785813  0.536357\n",
       "     z    0.646108  0.721422"
      ]
     },
     "execution_count": 192,
     "metadata": {},
     "output_type": "execute_result"
    }
   ],
   "source": [
    "data3.stack(level=0) #  stack也一样，是unstack的反向操作，level 也一样，默认-1"
   ]
  },
  {
   "cell_type": "code",
   "execution_count": 193,
   "metadata": {},
   "outputs": [
    {
     "data": {
      "text/plain": [
       "char  xyz  int\n",
       "a     x    1      0.393543\n",
       "           2      0.067376\n",
       "      y    1      0.024658\n",
       "           2      0.820321\n",
       "      z    1      0.925126\n",
       "           2      0.262419\n",
       "b     x    1      0.077714\n",
       "           2      0.997268\n",
       "      y    1      0.328592\n",
       "           2      0.822463\n",
       "      z    1      0.707198\n",
       "           2      0.079609\n",
       "c     x    1      0.142827\n",
       "           2      0.262706\n",
       "      y    1      0.785813\n",
       "           2      0.536357\n",
       "      z    1      0.646108\n",
       "           2      0.721422\n",
       "dtype: float64"
      ]
     },
     "execution_count": 193,
     "metadata": {},
     "output_type": "execute_result"
    }
   ],
   "source": [
    "data3.stack(level=0).stack(level=0)  # 但是这里不同，他会把所有的columns转到index中，\n",
    "                                     #并且继续转化会报错，因为Series、DataFrame不能没有索引"
   ]
  },
  {
   "cell_type": "markdown",
   "metadata": {},
   "source": [
    "索引的设置与重置"
   ]
  },
  {
   "cell_type": "markdown",
   "metadata": {},
   "source": [
    "层级数据维度转换的另一种方法是行列标签转换，可以通过 reset_index 方法实现"
   ]
  },
  {
   "cell_type": "code",
   "execution_count": 198,
   "metadata": {},
   "outputs": [
    {
     "data": {
      "text/plain": [
       "char  int  xyz\n",
       "a     1    x      0.393543\n",
       "           y      0.024658\n",
       "           z      0.925126\n",
       "      2    x      0.067376\n",
       "           y      0.820321\n",
       "           z      0.262419\n",
       "b     1    x      0.077714\n",
       "           y      0.328592\n",
       "           z      0.707198\n",
       "      2    x      0.997268\n",
       "           y      0.822463\n",
       "           z      0.079609\n",
       "c     1    x      0.142827\n",
       "           y      0.785813\n",
       "           z      0.646108\n",
       "      2    x      0.262706\n",
       "           y      0.536357\n",
       "           z      0.721422\n",
       "dtype: float64"
      ]
     },
     "execution_count": 198,
     "metadata": {},
     "output_type": "execute_result"
    }
   ],
   "source": [
    "data2"
   ]
  },
  {
   "cell_type": "code",
   "execution_count": 199,
   "metadata": {},
   "outputs": [],
   "source": [
    "pop_flat = data2.reset_index(name='value')"
   ]
  },
  {
   "cell_type": "code",
   "execution_count": 200,
   "metadata": {},
   "outputs": [
    {
     "data": {
      "text/html": [
       "<div>\n",
       "<style scoped>\n",
       "    .dataframe tbody tr th:only-of-type {\n",
       "        vertical-align: middle;\n",
       "    }\n",
       "\n",
       "    .dataframe tbody tr th {\n",
       "        vertical-align: top;\n",
       "    }\n",
       "\n",
       "    .dataframe thead th {\n",
       "        text-align: right;\n",
       "    }\n",
       "</style>\n",
       "<table border=\"1\" class=\"dataframe\">\n",
       "  <thead>\n",
       "    <tr style=\"text-align: right;\">\n",
       "      <th></th>\n",
       "      <th>char</th>\n",
       "      <th>int</th>\n",
       "      <th>xyz</th>\n",
       "      <th>value</th>\n",
       "    </tr>\n",
       "  </thead>\n",
       "  <tbody>\n",
       "    <tr>\n",
       "      <th>0</th>\n",
       "      <td>a</td>\n",
       "      <td>1</td>\n",
       "      <td>x</td>\n",
       "      <td>0.393543</td>\n",
       "    </tr>\n",
       "    <tr>\n",
       "      <th>1</th>\n",
       "      <td>a</td>\n",
       "      <td>1</td>\n",
       "      <td>y</td>\n",
       "      <td>0.024658</td>\n",
       "    </tr>\n",
       "    <tr>\n",
       "      <th>2</th>\n",
       "      <td>a</td>\n",
       "      <td>1</td>\n",
       "      <td>z</td>\n",
       "      <td>0.925126</td>\n",
       "    </tr>\n",
       "    <tr>\n",
       "      <th>3</th>\n",
       "      <td>a</td>\n",
       "      <td>2</td>\n",
       "      <td>x</td>\n",
       "      <td>0.067376</td>\n",
       "    </tr>\n",
       "    <tr>\n",
       "      <th>4</th>\n",
       "      <td>a</td>\n",
       "      <td>2</td>\n",
       "      <td>y</td>\n",
       "      <td>0.820321</td>\n",
       "    </tr>\n",
       "    <tr>\n",
       "      <th>5</th>\n",
       "      <td>a</td>\n",
       "      <td>2</td>\n",
       "      <td>z</td>\n",
       "      <td>0.262419</td>\n",
       "    </tr>\n",
       "    <tr>\n",
       "      <th>6</th>\n",
       "      <td>b</td>\n",
       "      <td>1</td>\n",
       "      <td>x</td>\n",
       "      <td>0.077714</td>\n",
       "    </tr>\n",
       "    <tr>\n",
       "      <th>7</th>\n",
       "      <td>b</td>\n",
       "      <td>1</td>\n",
       "      <td>y</td>\n",
       "      <td>0.328592</td>\n",
       "    </tr>\n",
       "    <tr>\n",
       "      <th>8</th>\n",
       "      <td>b</td>\n",
       "      <td>1</td>\n",
       "      <td>z</td>\n",
       "      <td>0.707198</td>\n",
       "    </tr>\n",
       "    <tr>\n",
       "      <th>9</th>\n",
       "      <td>b</td>\n",
       "      <td>2</td>\n",
       "      <td>x</td>\n",
       "      <td>0.997268</td>\n",
       "    </tr>\n",
       "    <tr>\n",
       "      <th>10</th>\n",
       "      <td>b</td>\n",
       "      <td>2</td>\n",
       "      <td>y</td>\n",
       "      <td>0.822463</td>\n",
       "    </tr>\n",
       "    <tr>\n",
       "      <th>11</th>\n",
       "      <td>b</td>\n",
       "      <td>2</td>\n",
       "      <td>z</td>\n",
       "      <td>0.079609</td>\n",
       "    </tr>\n",
       "    <tr>\n",
       "      <th>12</th>\n",
       "      <td>c</td>\n",
       "      <td>1</td>\n",
       "      <td>x</td>\n",
       "      <td>0.142827</td>\n",
       "    </tr>\n",
       "    <tr>\n",
       "      <th>13</th>\n",
       "      <td>c</td>\n",
       "      <td>1</td>\n",
       "      <td>y</td>\n",
       "      <td>0.785813</td>\n",
       "    </tr>\n",
       "    <tr>\n",
       "      <th>14</th>\n",
       "      <td>c</td>\n",
       "      <td>1</td>\n",
       "      <td>z</td>\n",
       "      <td>0.646108</td>\n",
       "    </tr>\n",
       "    <tr>\n",
       "      <th>15</th>\n",
       "      <td>c</td>\n",
       "      <td>2</td>\n",
       "      <td>x</td>\n",
       "      <td>0.262706</td>\n",
       "    </tr>\n",
       "    <tr>\n",
       "      <th>16</th>\n",
       "      <td>c</td>\n",
       "      <td>2</td>\n",
       "      <td>y</td>\n",
       "      <td>0.536357</td>\n",
       "    </tr>\n",
       "    <tr>\n",
       "      <th>17</th>\n",
       "      <td>c</td>\n",
       "      <td>2</td>\n",
       "      <td>z</td>\n",
       "      <td>0.721422</td>\n",
       "    </tr>\n",
       "  </tbody>\n",
       "</table>\n",
       "</div>"
      ],
      "text/plain": [
       "   char  int xyz     value\n",
       "0     a    1   x  0.393543\n",
       "1     a    1   y  0.024658\n",
       "2     a    1   z  0.925126\n",
       "3     a    2   x  0.067376\n",
       "4     a    2   y  0.820321\n",
       "5     a    2   z  0.262419\n",
       "6     b    1   x  0.077714\n",
       "7     b    1   y  0.328592\n",
       "8     b    1   z  0.707198\n",
       "9     b    2   x  0.997268\n",
       "10    b    2   y  0.822463\n",
       "11    b    2   z  0.079609\n",
       "12    c    1   x  0.142827\n",
       "13    c    1   y  0.785813\n",
       "14    c    1   z  0.646108\n",
       "15    c    2   x  0.262706\n",
       "16    c    2   y  0.536357\n",
       "17    c    2   z  0.721422"
      ]
     },
     "execution_count": 200,
     "metadata": {},
     "output_type": "execute_result"
    }
   ],
   "source": [
    "pop_flat  # 这是一般数据的基本样式"
   ]
  },
  {
   "cell_type": "code",
   "execution_count": 202,
   "metadata": {},
   "outputs": [
    {
     "data": {
      "text/html": [
       "<div>\n",
       "<style scoped>\n",
       "    .dataframe tbody tr th:only-of-type {\n",
       "        vertical-align: middle;\n",
       "    }\n",
       "\n",
       "    .dataframe tbody tr th {\n",
       "        vertical-align: top;\n",
       "    }\n",
       "\n",
       "    .dataframe thead th {\n",
       "        text-align: right;\n",
       "    }\n",
       "</style>\n",
       "<table border=\"1\" class=\"dataframe\">\n",
       "  <thead>\n",
       "    <tr style=\"text-align: right;\">\n",
       "      <th></th>\n",
       "      <th></th>\n",
       "      <th></th>\n",
       "      <th>value</th>\n",
       "    </tr>\n",
       "    <tr>\n",
       "      <th>char</th>\n",
       "      <th>int</th>\n",
       "      <th>xyz</th>\n",
       "      <th></th>\n",
       "    </tr>\n",
       "  </thead>\n",
       "  <tbody>\n",
       "    <tr>\n",
       "      <th rowspan=\"6\" valign=\"top\">a</th>\n",
       "      <th rowspan=\"3\" valign=\"top\">1</th>\n",
       "      <th>x</th>\n",
       "      <td>0.393543</td>\n",
       "    </tr>\n",
       "    <tr>\n",
       "      <th>y</th>\n",
       "      <td>0.024658</td>\n",
       "    </tr>\n",
       "    <tr>\n",
       "      <th>z</th>\n",
       "      <td>0.925126</td>\n",
       "    </tr>\n",
       "    <tr>\n",
       "      <th rowspan=\"3\" valign=\"top\">2</th>\n",
       "      <th>x</th>\n",
       "      <td>0.067376</td>\n",
       "    </tr>\n",
       "    <tr>\n",
       "      <th>y</th>\n",
       "      <td>0.820321</td>\n",
       "    </tr>\n",
       "    <tr>\n",
       "      <th>z</th>\n",
       "      <td>0.262419</td>\n",
       "    </tr>\n",
       "    <tr>\n",
       "      <th rowspan=\"6\" valign=\"top\">b</th>\n",
       "      <th rowspan=\"3\" valign=\"top\">1</th>\n",
       "      <th>x</th>\n",
       "      <td>0.077714</td>\n",
       "    </tr>\n",
       "    <tr>\n",
       "      <th>y</th>\n",
       "      <td>0.328592</td>\n",
       "    </tr>\n",
       "    <tr>\n",
       "      <th>z</th>\n",
       "      <td>0.707198</td>\n",
       "    </tr>\n",
       "    <tr>\n",
       "      <th rowspan=\"3\" valign=\"top\">2</th>\n",
       "      <th>x</th>\n",
       "      <td>0.997268</td>\n",
       "    </tr>\n",
       "    <tr>\n",
       "      <th>y</th>\n",
       "      <td>0.822463</td>\n",
       "    </tr>\n",
       "    <tr>\n",
       "      <th>z</th>\n",
       "      <td>0.079609</td>\n",
       "    </tr>\n",
       "    <tr>\n",
       "      <th rowspan=\"6\" valign=\"top\">c</th>\n",
       "      <th rowspan=\"3\" valign=\"top\">1</th>\n",
       "      <th>x</th>\n",
       "      <td>0.142827</td>\n",
       "    </tr>\n",
       "    <tr>\n",
       "      <th>y</th>\n",
       "      <td>0.785813</td>\n",
       "    </tr>\n",
       "    <tr>\n",
       "      <th>z</th>\n",
       "      <td>0.646108</td>\n",
       "    </tr>\n",
       "    <tr>\n",
       "      <th rowspan=\"3\" valign=\"top\">2</th>\n",
       "      <th>x</th>\n",
       "      <td>0.262706</td>\n",
       "    </tr>\n",
       "    <tr>\n",
       "      <th>y</th>\n",
       "      <td>0.536357</td>\n",
       "    </tr>\n",
       "    <tr>\n",
       "      <th>z</th>\n",
       "      <td>0.721422</td>\n",
       "    </tr>\n",
       "  </tbody>\n",
       "</table>\n",
       "</div>"
      ],
      "text/plain": [
       "                 value\n",
       "char int xyz          \n",
       "a    1   x    0.393543\n",
       "         y    0.024658\n",
       "         z    0.925126\n",
       "     2   x    0.067376\n",
       "         y    0.820321\n",
       "         z    0.262419\n",
       "b    1   x    0.077714\n",
       "         y    0.328592\n",
       "         z    0.707198\n",
       "     2   x    0.997268\n",
       "         y    0.822463\n",
       "         z    0.079609\n",
       "c    1   x    0.142827\n",
       "         y    0.785813\n",
       "         z    0.646108\n",
       "     2   x    0.262706\n",
       "         y    0.536357\n",
       "         z    0.721422"
      ]
     },
     "execution_count": 202,
     "metadata": {},
     "output_type": "execute_result"
    }
   ],
   "source": [
    "pop_flat.set_index(['char','int','xyz'])  # 转化成 DataFrame"
   ]
  },
  {
   "cell_type": "code",
   "execution_count": null,
   "metadata": {},
   "outputs": [],
   "source": []
  },
  {
   "cell_type": "code",
   "execution_count": null,
   "metadata": {},
   "outputs": [],
   "source": []
  }
 ],
 "metadata": {
  "kernelspec": {
   "display_name": "Python 3",
   "language": "python",
   "name": "python3"
  },
  "language_info": {
   "codemirror_mode": {
    "name": "ipython",
    "version": 3
   },
   "file_extension": ".py",
   "mimetype": "text/x-python",
   "name": "python",
   "nbconvert_exporter": "python",
   "pygments_lexer": "ipython3",
   "version": "3.7.0"
  }
 },
 "nbformat": 4,
 "nbformat_minor": 2
}
